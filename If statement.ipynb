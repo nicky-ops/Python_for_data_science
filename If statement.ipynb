{
 "cells": [
  {
   "cell_type": "code",
   "execution_count": 2,
   "id": "f65f6657",
   "metadata": {},
   "outputs": [],
   "source": [
    "# --- -2 ----- -1 -----0 ----1 ---- 2 -----"
   ]
  },
  {
   "cell_type": "code",
   "execution_count": 3,
   "id": "c83d2cbd",
   "metadata": {},
   "outputs": [],
   "source": [
    "import numpy as np\n",
    "from numpy.random import randn"
   ]
  },
  {
   "cell_type": "code",
   "execution_count": 4,
   "id": "63efcbed",
   "metadata": {},
   "outputs": [
    {
     "data": {
      "text/plain": [
       "-0.10534277364681364"
      ]
     },
     "execution_count": 4,
     "metadata": {},
     "output_type": "execute_result"
    }
   ],
   "source": [
    "randn()"
   ]
  },
  {
   "cell_type": "code",
   "execution_count": 5,
   "id": "c1f3f460",
   "metadata": {},
   "outputs": [
    {
     "name": "stdout",
     "output_type": "stream",
     "text": [
      "1.2867683251951032\n",
      "Greater than 1\n"
     ]
    }
   ],
   "source": [
    "# --- -2 ----- -1 -----0 ----1 ---- 2 -----\n",
    "answer = None\n",
    "x = randn()\n",
    "if x > 1:\n",
    "    answer = \"Greater than 1\"\n",
    "else:\n",
    "    answer = \"Less than 1\"\n",
    "print(x)\n",
    "print(answer)"
   ]
  },
  {
   "cell_type": "markdown",
   "id": "1da1cc67",
   "metadata": {},
   "source": [
    "---"
   ]
  },
  {
   "cell_type": "code",
   "execution_count": 6,
   "id": "f446b6e3",
   "metadata": {},
   "outputs": [
    {
     "name": "stdout",
     "output_type": "stream",
     "text": [
      "0.2788380797681038\n",
      "Less than 1\n"
     ]
    }
   ],
   "source": [
    "# --- -2 ----- -1 -----0 ----1 ---- 2 -----\n",
    "# Nested statemts\n",
    "answer = None\n",
    "x = randn()\n",
    "if x > 1:\n",
    "    answer = \"Greater than 1\"\n",
    "else:\n",
    "    if x >= -1:\n",
    "        answer = \"Between -1 and 1\"\n",
    "    else:\n",
    "        answer = \"Less than -1\"\n",
    "    answer = \"Less than 1\"\n",
    "print(x)\n",
    "print(answer)"
   ]
  },
  {
   "cell_type": "code",
   "execution_count": 7,
   "id": "e1f5b307",
   "metadata": {},
   "outputs": [
    {
     "name": "stdout",
     "output_type": "stream",
     "text": [
      "0.6919808546279987\n",
      "Between -1 and 1\n"
     ]
    }
   ],
   "source": [
    "# --- -2 ----- -1 -----0 ----1 ---- 2 -----\n",
    "# Chained statements\n",
    "answer = None\n",
    "x = randn()\n",
    "if x > 1:\n",
    "    answer = \"Greater than 1\"\n",
    "elif x >= -1:\n",
    "    answer = \"Between -1 and 1\"\n",
    "else:\n",
    "    answer = \"Less than -1\"\n",
    "print(x)\n",
    "print(answer)"
   ]
  },
  {
   "cell_type": "code",
   "execution_count": null,
   "id": "b78114af",
   "metadata": {},
   "outputs": [],
   "source": []
  }
 ],
 "metadata": {
  "kernelspec": {
   "display_name": "Python 3 (ipykernel)",
   "language": "python",
   "name": "python3"
  },
  "language_info": {
   "codemirror_mode": {
    "name": "ipython",
    "version": 3
   },
   "file_extension": ".py",
   "mimetype": "text/x-python",
   "name": "python",
   "nbconvert_exporter": "python",
   "pygments_lexer": "ipython3",
   "version": "3.9.18"
  }
 },
 "nbformat": 4,
 "nbformat_minor": 5
}
