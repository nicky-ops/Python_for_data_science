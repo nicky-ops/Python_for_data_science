{
 "cells": [
  {
   "cell_type": "code",
   "execution_count": 30,
   "metadata": {
    "collapsed": true
   },
   "outputs": [],
   "source": [
    "#Data \n",
    "revenue = [14574.49, 7606.46, 8611.41, 9175.41, 8058.65, 8105.44, 11496.28, 9766.09, 10305.32, 14379.96, 10713.97, 15433.50]\n",
    "expenses = [12051.82, 5695.07, 12319.20, 12089.72, 8658.57, 840.20, 3285.73, 5821.12, 6976.93, 16618.61, 10054.37, 3803.96]"
   ]
  },
  {
   "cell_type": "markdown",
   "metadata": {},
   "source": [
    "Profit for each month"
   ]
  },
  {
   "cell_type": "code",
   "execution_count": 52,
   "metadata": {},
   "outputs": [
    {
     "name": "stdout",
     "output_type": "stream",
     "text": [
      "[ 2.52  1.91 -3.71 -2.91 -0.6   7.27  8.21  3.94  3.33 -2.24  0.66 11.63]\n"
     ]
    }
   ],
   "source": [
    "import numpy as np\n",
    "arr_revenue = np.array(revenue)\n",
    "arr_expenses = np.array(expenses)\n",
    "profit = arr_revenue - arr_expenses\n",
    "print(np.around(profit / 1000, decimals=2))"
   ]
  },
  {
   "cell_type": "markdown",
   "metadata": {},
   "source": [
    "Profit after tax"
   ]
  },
  {
   "cell_type": "code",
   "execution_count": 50,
   "metadata": {},
   "outputs": [
    {
     "name": "stdout",
     "output_type": "stream",
     "text": [
      "[ 1.77  1.34 -2.6  -2.04 -0.42  5.09  5.75  2.76  2.33 -1.57  0.46  8.14]\n"
     ]
    }
   ],
   "source": [
    "tax = 0.3\n",
    "profit_after_tax = profit - (profit * tax)\n",
    "print(np.around(profit_after_tax / 1000, decimals=2))"
   ]
  },
  {
   "cell_type": "markdown",
   "metadata": {},
   "source": [
    "profit margin for each month"
   ]
  },
  {
   "cell_type": "code",
   "execution_count": 54,
   "metadata": {},
   "outputs": [
    {
     "name": "stdout",
     "output_type": "stream",
     "text": [
      "[ 12.  18. -30. -22.  -5.  63.  50.  28.  23. -11.   4.  53.]\n"
     ]
    }
   ],
   "source": [
    "# profit margin for each month\n",
    "profit_margin = profit_after_tax / arr_revenue\n",
    "print(np.round(profit_margin * 100, decimals=0))"
   ]
  },
  {
   "cell_type": "markdown",
   "metadata": {},
   "source": [
    "good months - where the profit after tax was greater than the mean for the year"
   ]
  },
  {
   "cell_type": "code",
   "execution_count": 53,
   "metadata": {},
   "outputs": [
    {
     "name": "stdout",
     "output_type": "stream",
     "text": [
      "[ True False False False False  True  True  True  True False False  True]\n"
     ]
    }
   ],
   "source": [
    "good_months = profit_after_tax > np.mean(profit_after_tax)\n",
    "print(good_months)"
   ]
  },
  {
   "cell_type": "markdown",
   "metadata": {},
   "source": [
    "Bad months - profit after tax < mean for the year"
   ]
  },
  {
   "cell_type": "code",
   "execution_count": 55,
   "metadata": {},
   "outputs": [
    {
     "name": "stdout",
     "output_type": "stream",
     "text": [
      "[False  True  True  True  True False False False False  True  True False]\n"
     ]
    }
   ],
   "source": [
    "bad_months = profit_after_tax < np.mean(profit_after_tax)\n",
    "print(bad_months)"
   ]
  },
  {
   "cell_type": "markdown",
   "metadata": {},
   "source": [
    "Best month"
   ]
  },
  {
   "cell_type": "code",
   "execution_count": 56,
   "metadata": {},
   "outputs": [
    {
     "name": "stdout",
     "output_type": "stream",
     "text": [
      "8140.678000000001\n"
     ]
    }
   ],
   "source": [
    "best_month = np.max(profit_after_tax)\n",
    "print(best_month)"
   ]
  },
  {
   "cell_type": "markdown",
   "metadata": {},
   "source": [
    "worst month"
   ]
  },
  {
   "cell_type": "code",
   "execution_count": 57,
   "metadata": {},
   "outputs": [
    {
     "name": "stdout",
     "output_type": "stream",
     "text": [
      "-2595.4530000000004\n"
     ]
    }
   ],
   "source": [
    "worst_month = np.min(profit_after_tax)\n",
    "print(worst_month)"
   ]
  },
  {
   "cell_type": "code",
   "execution_count": null,
   "metadata": {},
   "outputs": [],
   "source": []
  }
 ],
 "metadata": {
  "kernelspec": {
   "display_name": "Python 3 (ipykernel)",
   "language": "python",
   "name": "python3"
  }
 },
 "nbformat": 4,
 "nbformat_minor": 1
}
