{
 "cells": [
  {
   "cell_type": "code",
   "execution_count": 131,
   "id": "a6b1da16",
   "metadata": {},
   "outputs": [
    {
     "name": "stdout",
     "output_type": "stream",
     "text": [
      "quantity: 100, counter: 67\n",
      "67.0\n"
     ]
    }
   ],
   "source": [
    "from numpy.random import randn\n",
    "counter = 0\n",
    "quantity = 0\n",
    "\n",
    "while quantity < 100:\n",
    "    random_no = randn()\n",
    "    if random_no > -1 and random_no < 1:\n",
    "        counter += 1\n",
    "    quantity += 1\n",
    "print(f\"quantity: {quantity}, counter: {counter}\")\n",
    "print(counter / quantity * 100)\n",
    "        "
   ]
  },
  {
   "cell_type": "code",
   "execution_count": 169,
   "id": "656f57cf",
   "metadata": {
    "scrolled": true
   },
   "outputs": [
    {
     "name": "stdout",
     "output_type": "stream",
     "text": [
      "quantity: 100, counter: 64\n",
      "64.0\n"
     ]
    }
   ],
   "source": [
    "counter = 0\n",
    "N = 100\n",
    "for i in randn(N):\n",
    "    if i > -1 and i < 1:\n",
    "        counter += 1\n",
    "print(f\"quantity: {N}, counter: {counter}\")\n",
    "print(counter / N * 100)"
   ]
  }
 ],
 "metadata": {
  "kernelspec": {
   "display_name": "Python 3 (ipykernel)",
   "language": "python",
   "name": "python3"
  },
  "language_info": {
   "codemirror_mode": {
    "name": "ipython",
    "version": 3
   },
   "file_extension": ".py",
   "mimetype": "text/x-python",
   "name": "python",
   "nbconvert_exporter": "python",
   "pygments_lexer": "ipython3",
   "version": "3.9.18"
  }
 },
 "nbformat": 4,
 "nbformat_minor": 5
}
